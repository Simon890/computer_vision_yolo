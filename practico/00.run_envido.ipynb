{
 "cells": [
  {
   "cell_type": "markdown",
   "metadata": {
    "id": "SUKX__a1UgGt"
   },
   "source": [
    "# Ejemplo de Inferencia"
   ]
  },
  {
   "cell_type": "code",
   "execution_count": 1,
   "metadata": {
    "id": "tyNm0cFM-IOt"
   },
   "outputs": [
    {
     "ename": "ModuleNotFoundError",
     "evalue": "No module named 'google.colab'",
     "output_type": "error",
     "traceback": [
      "\u001b[0;31m---------------------------------------------------------------------------\u001b[0m",
      "\u001b[0;31mModuleNotFoundError\u001b[0m                       Traceback (most recent call last)",
      "Cell \u001b[0;32mIn[1], line 1\u001b[0m\n\u001b[0;32m----> 1\u001b[0m \u001b[38;5;28;01mfrom\u001b[39;00m \u001b[38;5;21;01mgoogle\u001b[39;00m\u001b[38;5;21;01m.\u001b[39;00m\u001b[38;5;21;01mcolab\u001b[39;00m \u001b[38;5;28;01mimport\u001b[39;00m drive\n\u001b[1;32m      2\u001b[0m drive\u001b[38;5;241m.\u001b[39mmount(\u001b[38;5;124m'\u001b[39m\u001b[38;5;124m/content/drive\u001b[39m\u001b[38;5;124m'\u001b[39m)\n",
      "\u001b[0;31mModuleNotFoundError\u001b[0m: No module named 'google.colab'"
     ]
    }
   ],
   "source": [
    "from google.colab import drive\n",
    "drive.mount('/content/drive')"
   ]
  },
  {
   "cell_type": "code",
   "execution_count": 2,
   "metadata": {
    "id": "uilXHQVW-RTg"
   },
   "outputs": [
    {
     "name": "stdout",
     "output_type": "stream",
     "text": [
      "Defaulting to user installation because normal site-packages is not writeable\n",
      "Requirement already satisfied: ultralytics in /home/simon/.local/lib/python3.10/site-packages (8.0.222)\n",
      "Requirement already satisfied: matplotlib>=3.3.0 in /home/simon/.local/lib/python3.10/site-packages (from ultralytics) (3.7.2)\n",
      "Requirement already satisfied: numpy>=1.22.2 in /home/simon/.local/lib/python3.10/site-packages (from ultralytics) (1.24.4)\n",
      "Requirement already satisfied: opencv-python>=4.6.0 in /home/simon/.local/lib/python3.10/site-packages (from ultralytics) (4.6.0.66)\n",
      "Requirement already satisfied: pillow>=7.1.2 in /home/simon/.local/lib/python3.10/site-packages (from ultralytics) (10.1.0)\n",
      "Requirement already satisfied: pyyaml>=5.3.1 in /home/simon/.local/lib/python3.10/site-packages (from ultralytics) (6.0.1)\n",
      "Requirement already satisfied: requests>=2.23.0 in /usr/local/lib/python3.10/dist-packages (from ultralytics) (2.31.0)\n",
      "Requirement already satisfied: scipy>=1.4.1 in /home/simon/.local/lib/python3.10/site-packages (from ultralytics) (1.11.2)\n",
      "Requirement already satisfied: torch>=1.8.0 in /home/simon/.local/lib/python3.10/site-packages (from ultralytics) (2.1.1)\n",
      "Requirement already satisfied: torchvision>=0.9.0 in /home/simon/.local/lib/python3.10/site-packages (from ultralytics) (0.16.1)\n",
      "Requirement already satisfied: tqdm>=4.64.0 in /home/simon/.local/lib/python3.10/site-packages (from ultralytics) (4.66.1)\n",
      "Requirement already satisfied: pandas>=1.1.4 in /home/simon/.local/lib/python3.10/site-packages (from ultralytics) (2.1.0)\n",
      "Requirement already satisfied: seaborn>=0.11.0 in /home/simon/.local/lib/python3.10/site-packages (from ultralytics) (0.12.2)\n",
      "Requirement already satisfied: psutil in /usr/lib/python3/dist-packages (from ultralytics) (5.9.0)\n",
      "Requirement already satisfied: py-cpuinfo in /home/simon/.local/lib/python3.10/site-packages (from ultralytics) (9.0.0)\n",
      "Requirement already satisfied: thop>=0.1.1 in /home/simon/.local/lib/python3.10/site-packages (from ultralytics) (0.1.1.post2209072238)\n",
      "Requirement already satisfied: contourpy>=1.0.1 in /home/simon/.local/lib/python3.10/site-packages (from matplotlib>=3.3.0->ultralytics) (1.1.0)\n",
      "Requirement already satisfied: cycler>=0.10 in /home/simon/.local/lib/python3.10/site-packages (from matplotlib>=3.3.0->ultralytics) (0.11.0)\n",
      "Requirement already satisfied: fonttools>=4.22.0 in /home/simon/.local/lib/python3.10/site-packages (from matplotlib>=3.3.0->ultralytics) (4.42.1)\n",
      "Requirement already satisfied: kiwisolver>=1.0.1 in /home/simon/.local/lib/python3.10/site-packages (from matplotlib>=3.3.0->ultralytics) (1.4.5)\n",
      "Requirement already satisfied: packaging>=20.0 in /home/simon/.local/lib/python3.10/site-packages (from matplotlib>=3.3.0->ultralytics) (23.1)\n",
      "Requirement already satisfied: pyparsing<3.1,>=2.3.1 in /usr/lib/python3/dist-packages (from matplotlib>=3.3.0->ultralytics) (2.4.7)\n",
      "Requirement already satisfied: python-dateutil>=2.7 in /usr/local/lib/python3.10/dist-packages (from matplotlib>=3.3.0->ultralytics) (2.8.2)\n",
      "Requirement already satisfied: pytz>=2020.1 in /home/simon/.local/lib/python3.10/site-packages (from pandas>=1.1.4->ultralytics) (2023.3)\n",
      "Requirement already satisfied: tzdata>=2022.1 in /home/simon/.local/lib/python3.10/site-packages (from pandas>=1.1.4->ultralytics) (2023.3)\n",
      "Requirement already satisfied: charset-normalizer<4,>=2 in /usr/local/lib/python3.10/dist-packages (from requests>=2.23.0->ultralytics) (3.2.0)\n",
      "Requirement already satisfied: idna<4,>=2.5 in /usr/lib/python3/dist-packages (from requests>=2.23.0->ultralytics) (3.3)\n",
      "Requirement already satisfied: urllib3<3,>=1.21.1 in /home/simon/.local/lib/python3.10/site-packages (from requests>=2.23.0->ultralytics) (2.2.2)\n",
      "Requirement already satisfied: certifi>=2017.4.17 in /home/simon/.local/lib/python3.10/site-packages (from requests>=2.23.0->ultralytics) (2023.11.17)\n",
      "Requirement already satisfied: filelock in /home/simon/.local/lib/python3.10/site-packages (from torch>=1.8.0->ultralytics) (3.13.1)\n",
      "Requirement already satisfied: typing-extensions in /home/simon/.local/lib/python3.10/site-packages (from torch>=1.8.0->ultralytics) (4.12.2)\n",
      "Requirement already satisfied: sympy in /home/simon/.local/lib/python3.10/site-packages (from torch>=1.8.0->ultralytics) (1.12)\n",
      "Requirement already satisfied: networkx in /home/simon/.local/lib/python3.10/site-packages (from torch>=1.8.0->ultralytics) (3.2.1)\n",
      "Requirement already satisfied: jinja2 in /usr/local/lib/python3.10/dist-packages (from torch>=1.8.0->ultralytics) (3.1.2)\n",
      "Requirement already satisfied: fsspec in /home/simon/.local/lib/python3.10/site-packages (from torch>=1.8.0->ultralytics) (2023.12.1)\n",
      "Requirement already satisfied: nvidia-cuda-nvrtc-cu12==12.1.105 in /home/simon/.local/lib/python3.10/site-packages (from torch>=1.8.0->ultralytics) (12.1.105)\n",
      "Requirement already satisfied: nvidia-cuda-runtime-cu12==12.1.105 in /home/simon/.local/lib/python3.10/site-packages (from torch>=1.8.0->ultralytics) (12.1.105)\n",
      "Requirement already satisfied: nvidia-cuda-cupti-cu12==12.1.105 in /home/simon/.local/lib/python3.10/site-packages (from torch>=1.8.0->ultralytics) (12.1.105)\n",
      "Requirement already satisfied: nvidia-cudnn-cu12==8.9.2.26 in /home/simon/.local/lib/python3.10/site-packages (from torch>=1.8.0->ultralytics) (8.9.2.26)\n",
      "Requirement already satisfied: nvidia-cublas-cu12==12.1.3.1 in /home/simon/.local/lib/python3.10/site-packages (from torch>=1.8.0->ultralytics) (12.1.3.1)\n",
      "Requirement already satisfied: nvidia-cufft-cu12==11.0.2.54 in /home/simon/.local/lib/python3.10/site-packages (from torch>=1.8.0->ultralytics) (11.0.2.54)\n",
      "Requirement already satisfied: nvidia-curand-cu12==10.3.2.106 in /home/simon/.local/lib/python3.10/site-packages (from torch>=1.8.0->ultralytics) (10.3.2.106)\n",
      "Requirement already satisfied: nvidia-cusolver-cu12==11.4.5.107 in /home/simon/.local/lib/python3.10/site-packages (from torch>=1.8.0->ultralytics) (11.4.5.107)\n",
      "Requirement already satisfied: nvidia-cusparse-cu12==12.1.0.106 in /home/simon/.local/lib/python3.10/site-packages (from torch>=1.8.0->ultralytics) (12.1.0.106)\n",
      "Requirement already satisfied: nvidia-nccl-cu12==2.18.1 in /home/simon/.local/lib/python3.10/site-packages (from torch>=1.8.0->ultralytics) (2.18.1)\n",
      "Requirement already satisfied: nvidia-nvtx-cu12==12.1.105 in /home/simon/.local/lib/python3.10/site-packages (from torch>=1.8.0->ultralytics) (12.1.105)\n",
      "Requirement already satisfied: triton==2.1.0 in /home/simon/.local/lib/python3.10/site-packages (from torch>=1.8.0->ultralytics) (2.1.0)\n",
      "Requirement already satisfied: nvidia-nvjitlink-cu12 in /home/simon/.local/lib/python3.10/site-packages (from nvidia-cusolver-cu12==11.4.5.107->torch>=1.8.0->ultralytics) (12.3.101)\n",
      "Requirement already satisfied: six>=1.5 in /usr/lib/python3/dist-packages (from python-dateutil>=2.7->matplotlib>=3.3.0->ultralytics) (1.16.0)\n",
      "Requirement already satisfied: MarkupSafe>=2.0 in /home/simon/.local/lib/python3.10/site-packages (from jinja2->torch>=1.8.0->ultralytics) (2.1.3)\n",
      "Requirement already satisfied: mpmath>=0.19 in /home/simon/.local/lib/python3.10/site-packages (from sympy->torch>=1.8.0->ultralytics) (1.3.0)\n",
      "\n",
      "\u001b[1m[\u001b[0m\u001b[34;49mnotice\u001b[0m\u001b[1;39;49m]\u001b[0m\u001b[39;49m A new release of pip is available: \u001b[0m\u001b[31;49m23.3.1\u001b[0m\u001b[39;49m -> \u001b[0m\u001b[32;49m24.1.2\u001b[0m\n",
      "\u001b[1m[\u001b[0m\u001b[34;49mnotice\u001b[0m\u001b[1;39;49m]\u001b[0m\u001b[39;49m To update, run: \u001b[0m\u001b[32;49mpython3 -m pip install --upgrade pip\u001b[0m\n"
     ]
    }
   ],
   "source": [
    "! pip install ultralytics"
   ]
  },
  {
   "cell_type": "code",
   "execution_count": 9,
   "metadata": {
    "id": "ZxlBx8OXUgGu"
   },
   "outputs": [],
   "source": [
    "import os\n",
    "import shutil\n",
    "import json\n",
    "from ultralytics import YOLO\n",
    "import cv2\n",
    "import PIL.Image as Image\n",
    "import imageio as iio"
   ]
  },
  {
   "cell_type": "markdown",
   "metadata": {
    "id": "Kzf_37QPUgGu"
   },
   "source": [
    "## Ajustes Iniciales"
   ]
  },
  {
   "cell_type": "code",
   "execution_count": 6,
   "metadata": {
    "id": "LrsYEZXHUgGv"
   },
   "outputs": [],
   "source": [
    "# Nombre del alumno\n",
    "student_name = \"simon_revello\"\n",
    "\n",
    "# Ruta al archivo de pesos\n",
    "model_path = \"/home/simon/Documentos/FCEIA/computer-vision/cartas_tp/runs/detect/train/weights/best.pt\"\n",
    "\n",
    "# Ruta al directorio que contiene las imagenes\n",
    "imgs_dir = \"/home/simon/Documentos/FCEIA/computer-vision/cartas_tp/dataset2/images/val\"\n",
    "\n",
    "# Ruta al directorio de destino de las detecciones\n",
    "base_dir = \"/home/simon/Documentos/FCEIA/computer-vision/cartas_tp/dataset2/out\"\n",
    "dets_dir = os.path.join(base_dir, student_name)\n",
    "\n",
    "model = YOLO(\"/home/simon/Documentos/FCEIA/computer-vision/cartas_tp/runs/detect/train/weights/best.pt\")"
   ]
  },
  {
   "cell_type": "code",
   "execution_count": 24,
   "metadata": {},
   "outputs": [
    {
     "name": "stdout",
     "output_type": "stream",
     "text": [
      "\n",
      "0: 640x480 1 1C, 1 1E, 1 5C, 1 11C, 1 12E, 10.2ms\n",
      "Speed: 19.6ms preprocess, 10.2ms inference, 0.9ms postprocess per image at shape (1, 3, 640, 480)\n",
      "5 None [\n",
      "  {\n",
      "    \"name\": \"12E\",\n",
      "    \"class\": 46,\n",
      "    \"confidence\": 0.985724151134491,\n",
      "    \"box\": {\n",
      "      \"x1\": 306.43365478515625,\n",
      "      \"y1\": 792.3607177734375,\n",
      "      \"x2\": 612.0839233398438,\n",
      "      \"y2\": 1136.0711669921875\n",
      "    }\n",
      "  },\n",
      "  {\n",
      "    \"name\": \"1E\",\n",
      "    \"class\": 2,\n",
      "    \"confidence\": 0.9583532810211182,\n",
      "    \"box\": {\n",
      "      \"x1\": 595.8812255859375,\n",
      "      \"y1\": 669.3236083984375,\n",
      "      \"x2\": 932.0594482421875,\n",
      "      \"y2\": 976.2109375\n",
      "    }\n",
      "  },\n",
      "  {\n",
      "    \"name\": \"11C\",\n",
      "    \"class\": 41,\n",
      "    \"confidence\": 0.9552983045578003,\n",
      "    \"box\": {\n",
      "      \"x1\": 250.10130310058594,\n",
      "      \"y1\": 238.47430419921875,\n",
      "      \"x2\": 482.594482421875,\n",
      "      \"y2\": 556.7762451171875\n",
      "    }\n",
      "  },\n",
      "  {\n",
      "    \"name\": \"1C\",\n",
      "    \"class\": 1,\n",
      "    \"confidence\": 0.9438344240188599,\n",
      "    \"box\": {\n",
      "      \"x1\": 5.512786865234375,\n",
      "      \"y1\": 572.8150634765625,\n",
      "      \"x2\": 327.7917175292969,\n",
      "      \"y2\": 920.9249267578125\n",
      "    }\n",
      "  },\n",
      "  {\n",
      "    \"name\": \"5C\",\n",
      "    \"class\": 17,\n",
      "    \"confidence\": 0.9051405191421509,\n",
      "    \"box\": {\n",
      "      \"x1\": 513.109619140625,\n",
      "      \"y1\": 271.59014892578125,\n",
      "      \"x2\": 789.05322265625,\n",
      "      \"y2\": 596.150634765625\n",
      "    }\n",
      "  }\n",
      "]\n"
     ]
    },
    {
     "name": "stderr",
     "output_type": "stream",
     "text": [
      "/tmp/ipykernel_375108/312200581.py:1: DeprecationWarning: Starting with ImageIO v3 the behavior of this function will switch to that of iio.v3.imread. To keep the current behavior (and make this warning disappear) use `import imageio.v2 as imageio` or call `imageio.v2.imread` directly.\n",
      "  img = iio.imread(\"/home/simon/Documentos/FCEIA/computer-vision/cartas_tp/dataset2/images/train/F37605_florencia_fernandez_53.png\")\n"
     ]
    }
   ],
   "source": [
    "img = iio.imread(\"/home/simon/Documentos/FCEIA/computer-vision/cartas_tp/dataset2/images/train/F37605_florencia_fernandez_53.png\")\n",
    "results = model.predict(img, conf=0.3, imgsz=640, show_conf=True)\n",
    "for r in results:\n",
    "    print(len(r.boxes), r.probs, r.tojson())"
   ]
  },
  {
   "cell_type": "code",
   "execution_count": null,
   "metadata": {
    "id": "XPb1-p0LUgGv"
   },
   "outputs": [],
   "source": [
    "# Reestablecimiento del directorio de destino (eliminacion)\n",
    "if os.path.exists(dets_dir):\n",
    "    shutil.rmtree(dets_dir)\n",
    "\n",
    "os.makedirs(dets_dir)"
   ]
  },
  {
   "cell_type": "markdown",
   "metadata": {
    "id": "KlWUupvnUgGv"
   },
   "source": [
    "## Inferencia\n",
    "\n",
    "### Formato YOLOv5 para las salidas de las inferencias\n",
    "\n",
    "Estas son las celdas para que el estudiante complete con su código de inferencia.\n",
    "\n",
    "Debe generar un archivo con las detecciones en formato YOLOv5, donde cada línea contiene:\n",
    " cls, xc, yx, w, h, c\n",
    "\n",
    "* **cls**: número de índice de la clase\n",
    "\n",
    "* **xc**: coordenada x al centro de la caja delimitadora (bbox)\n",
    "\n",
    "* **yx**: coordenada y al centro de la caja delimitadora (bbox)\n",
    "\n",
    "* **w**: ancho de la caja delimitadora\n",
    "\n",
    "* **h**: alto de la caja delimitadora\n",
    "\n",
    "* **c**: certeza del modelo sobre la clasificacíon (confidence)\n",
    "\n",
    "\n",
    " Todas las coordenadas deben ser relativas: [0 ... 1]\n",
    "\n",
    "NOTA: Si utiliza un modelo YoloV8 de ultralytics, pueder llamar al método result.save_txt(file_name, save_conf=True)\n",
    "\n",
    "### Formato para los archivos de envido.json\n",
    "\n",
    "Además de las detecciones anteriores, debe existir un archivo llamado envido.json con la siguiente estructura:\n",
    "\n",
    "```json\n",
    "{\n",
    "    \"IMG_20240630_174514649_HDR.jpg\": {\n",
    "        \"total_cards\": 3,\n",
    "        \"cards\": {\n",
    "            \"E\": [],\n",
    "            \"C\": [\n",
    "                12\n",
    "            ],\n",
    "            \"B\": [\n",
    "                11\n",
    "            ],\n",
    "            \"O\": [\n",
    "                10\n",
    "            ]\n",
    "        },\n",
    "        \"points\": 0,\n",
    "        \"figure\": \"N/A\"\n",
    "    },\n",
    "    \"IMG_20240630_173918579.jpg\": {\n",
    "        \"total_cards\": 2,\n",
    "        \"cards\": {\n",
    "            \"E\": [],\n",
    "            \"C\": [],\n",
    "            \"B\": [],\n",
    "            \"O\": [\n",
    "                9,\n",
    "                8\n",
    "            ]\n",
    "        },\n",
    "        \"points\": 0,\n",
    "        \"figure\": \"N/A\"\n",
    "    },\n",
    "  ...\n",
    "}\n",
    "```\n",
    "\n",
    "Esto indica que hay un total de tres cartas, que son el 5 y el 1 de Copas, y el 2 de Basto, que dan 26 puntos de envido de Copa.\n",
    "\n",
    "Este archivo debe contener una clave con el nombre de archivo, donde cada elemento es a su vez un objeto cons las claves detalladas.\n",
    "\n",
    "Revise el archivo gt_envido.json para analizar todas las posibilidades."
   ]
  },
  {
   "cell_type": "markdown",
   "metadata": {
    "id": "MEvz0ZGdUgGw"
   },
   "source": [
    "### DEMO: cálculo del envido\n",
    "\n",
    "A continuación hay una implementación del cálculo de los puntos a modo de ejemplo, que sirve de referencia para evaluar el algoritmo de evaluación.\n",
    "\n",
    "**ESTA ES LA SECCIÓN QUE CADA ALUMNO REEMPLAZARIA CON SU CODIGO**"
   ]
  },
  {
   "cell_type": "code",
   "execution_count": 55,
   "metadata": {
    "id": "prcIq_tjUgGw"
   },
   "outputs": [],
   "source": [
    "def get_txt_filename(img_path : str):\n",
    "    img_filename = os.path.basename(img_path)\n",
    "    return img_filename.replace(\".jpg\", \".txt\").replace(\".png\", \".txt\")\n",
    "\n",
    "def read_card(img_path : str):\n",
    "    cards = {\"E\": [], \"C\": [], \"B\": [], \"O\": [], \"J\": []}\n",
    "    results = model.predict(img_path)\n",
    "    resultado = {img_path: {}}\n",
    "    for result in results:\n",
    "        result.save_txt(os.path.join(dets_dir, get_txt_filename(result.path)), save_conf=True)\n",
    "        arrayR = json.loads(result.tojson())\n",
    "        total_cards = len(arrayR)\n",
    "        resultado[img_path][\"total_cards\"] = total_cards\n",
    "        for pred in arrayR:\n",
    "            name = pred[\"name\"]\n",
    "            if name == \"J\":\n",
    "                cards[name].append(1)\n",
    "            else:\n",
    "                if len(name) == 2:\n",
    "                    clase = name[1]\n",
    "                    nro = int(name[0])\n",
    "                    cards[clase].append(nro)\n",
    "                elif len(name) == 3:\n",
    "                    clase = name[2]\n",
    "                    nro = int(name[:2])\n",
    "                    cards[clase].append(nro)\n",
    "        resultado[img_path][\"cards\"] = cards\n",
    "        resultado[img_path][\"points\"] = 0\n",
    "        resultado[img_path][\"figure\"] = \"N/A\"\n",
    "\n",
    "    if total_cards == 0: return resultado\n",
    "    elif total_cards > 3:\n",
    "        print(f\"Sobra(n) {total_cards - 3} carta(s)\")\n",
    "        return resultado\n",
    "    elif total_cards < 3:\n",
    "        print(f\"Falta(n) {3 - total_cards} carta(s)\")\n",
    "        return resultado\n",
    "        \n",
    "    hayCartaRara = False\n",
    "    \n",
    "    for tipoCarta in resultado[img_path][\"cards\"].keys():\n",
    "        if tipoCarta == \"J\" and len(resultado[img_path][\"cards\"][tipoCarta]) > 0:\n",
    "            hayCartaRara = True\n",
    "            print(\"El comodín no es válido\")\n",
    "            break\n",
    "        for nro in resultado[img_path][\"cards\"][tipoCarta]:\n",
    "            if nro >= 8 and nro <= 12:\n",
    "                hayCartaRara = True\n",
    "                print(f\"El nro {nro} no está habilitado para el truco\")\n",
    "                break\n",
    "        if hayCartaRara: return resultado\n",
    "\n",
    "    #Evaluar envido\n",
    "    cantEspecial = 0\n",
    "    cantIguales = 0\n",
    "    figure = None\n",
    "    totEnvido = 0\n",
    "    for tipoCarta in resultado[img_path][\"cards\"].keys():\n",
    "        if len(resultado[img_path][\"cards\"][tipoCarta]) <= 1: continue\n",
    "        cantIguales = len(resultado[img_path][\"cards\"][tipoCarta])\n",
    "        figure = tipoCarta\n",
    "        for nro in resultado[img_path][\"cards\"][tipoCarta]:\n",
    "            if nro > 9 and nro <= 12:\n",
    "                cantEspecial += 1\n",
    "                continue\n",
    "            totEnvido += nro\n",
    "    \n",
    "    if cantIguales > 0:\n",
    "        if cantIguales == cantEspecial:\n",
    "            totEnvido = 20\n",
    "        elif cantEspecial == 0:\n",
    "            totEnvido += 20\n",
    "    \n",
    "    resultado[img_path][\"figure\"] = figure\n",
    "    resultado[img_path][\"points\"] = totEnvido if totEnvido <= 33 else 33\n",
    "    return resultado"
   ]
  },
  {
   "cell_type": "code",
   "execution_count": 56,
   "metadata": {},
   "outputs": [
    {
     "name": "stdout",
     "output_type": "stream",
     "text": [
      "\n",
      "image 1/1 /home/simon/Documentos/FCEIA/computer-vision/cartas_tp/IMG_20240728_130056.jpg: 640x512 1 1E, 1 2O, 1 4E, 9.3ms\n",
      "Speed: 1.9ms preprocess, 9.3ms inference, 0.9ms postprocess per image at shape (1, 3, 640, 512)\n",
      "{'/home/simon/Documentos/FCEIA/computer-vision/cartas_tp/IMG_20240728_130056.jpg': {'total_cards': 3, 'cards': {'E': [1, 4], 'C': [], 'B': [], 'O': [2], 'J': []}, 'points': 25, 'figure': 'E'}}\n"
     ]
    }
   ],
   "source": [
    "print(read_card(\"/home/simon/Documentos/FCEIA/computer-vision/cartas_tp/IMG_20240728_130056.jpg\"))"
   ]
  },
  {
   "cell_type": "markdown",
   "metadata": {
    "id": "w3K0mr20UgGx"
   },
   "source": [
    "## Escritura del archivo envido.json"
   ]
  },
  {
   "cell_type": "code",
   "execution_count": 57,
   "metadata": {
    "id": "Y-98aHWTUgGx"
   },
   "outputs": [
    {
     "name": "stdout",
     "output_type": "stream",
     "text": [
      "\n",
      "image 1/1 /home/simon/Documentos/FCEIA/computer-vision/cartas_tp/IMG_20240728_130056.jpg: 640x512 1 1E, 1 2O, 1 4E, 9.6ms\n",
      "Speed: 10.3ms preprocess, 9.6ms inference, 1.0ms postprocess per image at shape (1, 3, 640, 512)\n"
     ]
    }
   ],
   "source": [
    "IMG_PATH = \"/home/simon/Documentos/FCEIA/computer-vision/cartas_tp/IMG_20240728_130056.jpg\"\n",
    "with open(os.path.join(dets_dir, \"envido.json\"), \"w\") as jf:\n",
    "    resultado = read_card(IMG_PATH)\n",
    "    json.dump(resultado, jf, indent=4)"
   ]
  }
 ],
 "metadata": {
  "colab": {
   "provenance": []
  },
  "kernelspec": {
   "display_name": "Python 3 (ipykernel)",
   "language": "python",
   "name": "python3"
  },
  "language_info": {
   "codemirror_mode": {
    "name": "ipython",
    "version": 3
   },
   "file_extension": ".py",
   "mimetype": "text/x-python",
   "name": "python",
   "nbconvert_exporter": "python",
   "pygments_lexer": "ipython3",
   "version": "3.10.12"
  }
 },
 "nbformat": 4,
 "nbformat_minor": 4
}
